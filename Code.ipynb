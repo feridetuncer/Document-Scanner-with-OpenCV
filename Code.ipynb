{
 "cells": [
  {
   "cell_type": "code",
   "execution_count": null,
   "id": "97625c8a",
   "metadata": {},
   "outputs": [],
   "source": [
    "import cv2\n",
    "import imutils\n",
    "from skimage.filters import threshold_local\n",
    "from imutils.perspective import four_point_transform\n",
    "import numpy as np"
   ]
  },
  {
   "cell_type": "code",
   "execution_count": 47,
   "id": "0c32fba7",
   "metadata": {},
   "outputs": [
    {
     "data": {
      "text/plain": [
       "-1"
      ]
     },
     "execution_count": 47,
     "metadata": {},
     "output_type": "execute_result"
    }
   ],
   "source": [
    "img_path = 'image3.jpg'\n",
    "big_img = cv2.imread(img_path)\n",
    "cv2.imshow('org img',big_img)\n",
    "cv2.waitKey(0)"
   ]
  },
  {
   "cell_type": "code",
   "execution_count": 48,
   "id": "a8fd2f5b",
   "metadata": {},
   "outputs": [
    {
     "data": {
      "text/plain": [
       "-1"
      ]
     },
     "execution_count": 48,
     "metadata": {},
     "output_type": "execute_result"
    }
   ],
   "source": [
    "ratio = big_img.shape[0] / 500.0\n",
    "org = big_img.copy()\n",
    "img = imutils.resize(big_img, height = 1040, width=780)\n",
    "cv2.imshow('resizing',img)\n",
    "cv2.waitKey(0)\n"
   ]
  },
  {
   "cell_type": "code",
   "execution_count": 49,
   "id": "10bfa99d",
   "metadata": {},
   "outputs": [
    {
     "data": {
      "text/plain": [
       "-1"
      ]
     },
     "execution_count": 49,
     "metadata": {},
     "output_type": "execute_result"
    }
   ],
   "source": [
    "gray_img = cv2.cvtColor(img.copy(),cv2.COLOR_BGR2GRAY)\n",
    "blur_img = cv2.GaussianBlur(gray_img,(5,5),0)\n",
    "edged_img = cv2.Canny(blur_img,50,150)\n",
    "cv2.imshow('edged',edged_img)\n",
    "cv2.waitKey(0)"
   ]
  },
  {
   "cell_type": "code",
   "execution_count": 50,
   "id": "e3f2d981",
   "metadata": {},
   "outputs": [],
   "source": [
    "cnts,_ = cv2.findContours(edged_img.copy(),cv2.RETR_LIST,cv2.CHAIN_APPROX_SIMPLE)\n",
    "cnts = sorted(cnts,key=cv2.contourArea,reverse=True)[:5]\n",
    "for c in cnts:\n",
    "    peri = cv2.arcLength(c,True)\n",
    "    approx = cv2.approxPolyDP(c,0.02*peri,True)\n",
    "    if len(approx)==4:\n",
    "        doc = approx\n",
    "        break"
   ]
  },
  {
   "cell_type": "code",
   "execution_count": 51,
   "id": "d90e008f",
   "metadata": {},
   "outputs": [
    {
     "data": {
      "text/plain": [
       "-1"
      ]
     },
     "execution_count": 51,
     "metadata": {},
     "output_type": "execute_result"
    }
   ],
   "source": [
    "p=[]\n",
    "for d in doc:\n",
    "    tuple_point = tuple(d[0])\n",
    "    cv2.circle(img,tuple_point,3,(0,0,255),4)\n",
    "    p.append(tuple_point)\n",
    "cv2.imshow('Corner points detected',img)\n",
    "cv2.waitKey(0)"
   ]
  },
  {
   "cell_type": "code",
   "execution_count": 54,
   "id": "f0c15e4c",
   "metadata": {},
   "outputs": [
    {
     "data": {
      "text/plain": [
       "-1"
      ]
     },
     "execution_count": 54,
     "metadata": {},
     "output_type": "execute_result"
    }
   ],
   "source": [
    "warped = four_point_transform(org, doc.reshape(4,2) * ratio)\n",
    "warped = cv2.cvtColor(warped, cv2.COLOR_BGR2GRAY)\n",
    "cv2.imshow(\"Warped\", imutils.resize(warped, height = 2080, width=1560))\n",
    "cv2.waitKey(0)"
   ]
  },
  {
   "cell_type": "code",
   "execution_count": 55,
   "id": "ae34784f",
   "metadata": {},
   "outputs": [],
   "source": [
    "T = threshold_local(warped, 11, offset = 10, method = \"gaussian\")\n",
    "warped = (warped > T).astype(\"uint8\") * 255\n",
    "cv2.imshow(\"Scanned\", imutils.resize(warped, height = 2080, width=1560))\n",
    "cv2.waitKey(0)\n",
    "cv2.destroyAllWindows()"
   ]
  },
  {
   "cell_type": "code",
   "execution_count": null,
   "id": "c7ba7727",
   "metadata": {},
   "outputs": [],
   "source": []
  },
  {
   "cell_type": "code",
   "execution_count": null,
   "id": "2c6c3ba1",
   "metadata": {},
   "outputs": [],
   "source": []
  }
 ],
 "metadata": {
  "kernelspec": {
   "display_name": "Python 3 (ipykernel)",
   "language": "python",
   "name": "python3"
  },
  "language_info": {
   "codemirror_mode": {
    "name": "ipython",
    "version": 3
   },
   "file_extension": ".py",
   "mimetype": "text/x-python",
   "name": "python",
   "nbconvert_exporter": "python",
   "pygments_lexer": "ipython3",
   "version": "3.11.1"
  }
 },
 "nbformat": 4,
 "nbformat_minor": 5
}
